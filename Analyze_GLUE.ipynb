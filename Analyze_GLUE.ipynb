{
 "cells": [
  {
   "cell_type": "code",
   "execution_count": 46,
   "metadata": {},
   "outputs": [],
   "source": [
    "from pathlib import Path\n",
    "\n",
    "import numpy as np\n",
    "import pandas as pd\n",
    "from transformers import BertTokenizer\n",
    "import torch.nn.functional as F\n",
    "import torch"
   ]
  },
  {
   "cell_type": "code",
   "execution_count": 90,
   "metadata": {},
   "outputs": [],
   "source": [
    "GLUE_TASKS = ['CoLA', 'MNLI', 'MRPC', 'QNLI', 'QQP', 'RTE', 'SST-2', 'STS-B', 'WNLI']\n",
    "MODELS = ['bert-base-uncased', 'Nov09_19-12-14_elm15', 'Nov09_23-02-38_elm15']"
   ]
  },
  {
   "cell_type": "code",
   "execution_count": 91,
   "metadata": {},
   "outputs": [],
   "source": [
    "target_timestamp = '20201115_1429'\n",
    "target_path = Path('runs') / target_timestamp"
   ]
  },
  {
   "cell_type": "code",
   "execution_count": 92,
   "metadata": {},
   "outputs": [
    {
     "name": "stdout",
     "output_type": "stream",
     "text": [
      "CoLA:\n",
      "  bert-base-uncased:\n",
      "\teval_loss = 0.5498700141906738\n",
      "\teval_mcc = 0.5468753188432375\n",
      "  Nov09_19-12-14_elm15:\n",
      "\teval_loss = 0.5325039625167847\n",
      "\teval_mcc = 0.5858564219548863\n",
      "  Nov09_23-02-38_elm15:\n",
      "\teval_loss = 0.5603988766670227\n",
      "\teval_mcc = 0.5936105573332983\n",
      "MNLI:\n",
      "  bert-base-uncased:\n",
      "\teval_loss = 0.49452319741249084\n",
      "\teval_mnli/acc = 0.8445236882322975\n",
      "  Nov09_19-12-14_elm15:\n",
      "\teval_loss = 0.6853656768798828\n",
      "\teval_mnli/acc = 0.8371879775853286\n",
      "  Nov09_23-02-38_elm15:\n",
      "\teval_loss = 0.6645665168762207\n",
      "\teval_mnli/acc = 0.8388181355068772\n",
      "MRPC:\n",
      "  bert-base-uncased:\n",
      "\teval_loss = 0.4949655830860138\n",
      "\teval_acc = 0.8112745098039216\n",
      "\teval_f1 = 0.8752025931928687\n",
      "\teval_acc_and_f1 = 0.8432385514983951\n",
      "  Nov09_19-12-14_elm15:\n",
      "\teval_loss = 0.487006276845932\n",
      "\teval_acc = 0.8333333333333334\n",
      "\teval_f1 = 0.8855218855218856\n",
      "\teval_acc_and_f1 = 0.8594276094276094\n",
      "  Nov09_23-02-38_elm15:\n",
      "\teval_loss = 0.4862278997898102\n",
      "\teval_acc = 0.8308823529411765\n",
      "\teval_f1 = 0.8840336134453781\n",
      "\teval_acc_and_f1 = 0.8574579831932774\n",
      "QNLI:\n",
      "  bert-base-uncased:\n",
      "\teval_loss = 0.2756258547306061\n",
      "\teval_acc = 0.9154310818231741\n",
      "  Nov09_19-12-14_elm15:\n",
      "\teval_loss = 0.3864800035953522\n",
      "\teval_acc = 0.909024345597657\n",
      "  Nov09_23-02-38_elm15:\n",
      "\teval_loss = 0.37578675150871277\n",
      "\teval_acc = 0.9106717920556471\n",
      "QQP:\n",
      "  bert-base-uncased:\n",
      "\teval_loss = 0.2646900713443756\n",
      "\teval_acc = 0.9131338115260945\n",
      "\teval_f1 = 0.8831825439063331\n",
      "\teval_acc_and_f1 = 0.8981581777162138\n",
      "  Nov09_19-12-14_elm15:\n",
      "\teval_loss = 0.37192296981811523\n",
      "\teval_acc = 0.9126885975760574\n",
      "\teval_f1 = 0.8821211514058638\n",
      "\teval_acc_and_f1 = 0.8974048744909606\n",
      "  Nov09_23-02-38_elm15:\n",
      "\teval_loss = 0.3898037374019623\n",
      "\teval_acc = 0.9118723720009894\n",
      "\teval_f1 = 0.8809674940700899\n",
      "\teval_acc_and_f1 = 0.8964199330355396\n",
      "RTE:\n",
      "  bert-base-uncased:\n",
      "\teval_loss = 0.6351042985916138\n",
      "\teval_acc = 0.6606498194945848\n",
      "  Nov09_19-12-14_elm15:\n",
      "\teval_loss = 0.7360100746154785\n",
      "\teval_acc = 0.6534296028880866\n",
      "  Nov09_23-02-38_elm15:\n",
      "\teval_loss = 0.7500323057174683\n",
      "\teval_acc = 0.6425992779783394\n",
      "SST-2:\n",
      "  bert-base-uncased:\n",
      "\teval_loss = 0.24344035983085632\n",
      "\teval_acc = 0.9288990825688074\n",
      "  Nov09_19-12-14_elm15:\n",
      "\teval_loss = 0.22821196913719177\n",
      "\teval_acc = 0.9220183486238532\n",
      "  Nov09_23-02-38_elm15:\n",
      "\teval_loss = 0.2360052466392517\n",
      "\teval_acc = 0.9208715596330275\n",
      "STS-B:\n",
      "  bert-base-uncased:\n",
      "\teval_loss = 0.5121471881866455\n",
      "\teval_pearson = 0.8814546095215313\n",
      "\teval_spearmanr = 0.8798901865106585\n",
      "\teval_corr = 0.8806723980160949\n",
      "  Nov09_19-12-14_elm15:\n",
      "\teval_loss = 0.4753371477127075\n",
      "\teval_pearson = 0.8887612444548335\n",
      "\teval_spearmanr = 0.8854461351797972\n",
      "\teval_corr = 0.8871036898173154\n",
      "  Nov09_23-02-38_elm15:\n",
      "\teval_loss = 0.47726956009864807\n",
      "\teval_pearson = 0.8884582860703703\n",
      "\teval_spearmanr = 0.8852986777827926\n",
      "\teval_corr = 0.8868784819265814\n",
      "WNLI:\n",
      "  bert-base-uncased:\n",
      "\teval_loss = 0.691400408744812\n",
      "\teval_acc = 0.5633802816901409\n",
      "  Nov09_19-12-14_elm15:\n",
      "\teval_loss = 0.7046765089035034\n",
      "\teval_acc = 0.30985915492957744\n",
      "  Nov09_23-02-38_elm15:\n",
      "\teval_loss = 0.7053782343864441\n",
      "\teval_acc = 0.323943661971831\n"
     ]
    }
   ],
   "source": [
    "for task in GLUE_TASKS:\n",
    "    print(f'{task}:')\n",
    "    for model in MODELS:\n",
    "        task_txt = target_path / task / model / f'eval_results_{task.lower()}.txt'\n",
    "        if not task_txt.exists():\n",
    "            continue\n",
    "        with open(task_txt, 'r') as f:\n",
    "            print(f'  {model}:')\n",
    "            for line in f.readlines():\n",
    "                print(f'\\t{line.strip()}')"
   ]
  },
  {
   "cell_type": "code",
   "execution_count": 93,
   "metadata": {},
   "outputs": [
    {
     "name": "stderr",
     "output_type": "stream",
     "text": [
      "Reusing dataset glue (/Users/otakumesi/.cache/huggingface/datasets/glue/wnli/1.0.0/7c99657241149a24692c402a5c3f34d4c9f1df5ac2e4c3759fadea38f6cb29c4)\n"
     ]
    }
   ],
   "source": [
    "from datasets import load_dataset\n",
    "\n",
    "wnli = load_dataset('glue', 'wnli', split='validation')"
   ]
  },
  {
   "cell_type": "code",
   "execution_count": 94,
   "metadata": {},
   "outputs": [],
   "source": [
    "df = pd.DataFrame({'sentence1': wnli['sentence1'], 'sentence2': wnli['sentence2'], 'label': wnli['label']})\n",
    "\n",
    "for model in MODELS:\n",
    "    task_txt = target_path / 'wnli' / model / f'eval_labels_wnli.txt'\n",
    "    df_task_results = pd.read_csv(task_txt, sep='\\t')\n",
    "    df[model] = df_task_results['prediction']"
   ]
  },
  {
   "cell_type": "code",
   "execution_count": 75,
   "metadata": {},
   "outputs": [],
   "source": [
    "pd.set_option('display.max_columns', 500)\n",
    "pd.set_option('display.max_rows', 500)\n",
    "pd.set_option('display.max_colwidth', 700)"
   ]
  },
  {
   "cell_type": "code",
   "execution_count": 3,
   "metadata": {},
   "outputs": [
    {
     "name": "stderr",
     "output_type": "stream",
     "text": [
      "Using custom data configuration default\n",
      "Reusing dataset csv (/Users/otakumesi/.cache/huggingface/datasets/csv/default-be392c7d21ba57f1/0.0.0/49187751790fa4d820300fd4d0707896e5b941f1a9c644652645b866716a4ac4)\n"
     ]
    }
   ],
   "source": [
    "from datasets import load_dataset\n",
    "\n",
    "DATASET_PATH = \"data/crows_pairs_anonymized.csv\"\n",
    "dataset = load_dataset(\"csv\", data_files=str(DATASET_PATH), split=\"train\")"
   ]
  },
  {
   "cell_type": "code",
   "execution_count": 182,
   "metadata": {},
   "outputs": [],
   "source": [
    "gendered_corpus = \"data/gendered-sentiment/gender_corpus.tsv\"\n",
    "test_tsv = \"data/gendered-sentiment/test.tsv\"\n",
    "results_orig_bert = \"runs/models/bert-base-uncased/epoch_3_lr_4e-05_batch_32/gendered_sent_predicts.tsv\"\n",
    "results_tuned_bert = \"runs/models/more_loss_mse-epoch-70_aug_data/epoch_3_lr_3e-05_batch_32/gendered_sent_predicts.tsv\""
   ]
  },
  {
   "cell_type": "code",
   "execution_count": 183,
   "metadata": {},
   "outputs": [],
   "source": [
    "df_corpus = pd.read_csv(gendered_corpus, sep=\"\\t\")\n",
    "df_test = pd.read_csv(test_tsv, sep=\"\\t\")\n",
    "df_orig = pd.read_csv(results_orig_bert, sep=\"\\t\")\n",
    "df_tuned = pd.read_csv(results_tuned_bert, sep=\"\\t\")\n",
    "\n",
    "std_preds_orig = F.softmax(torch.stack([torch.tensor(df_orig[\"prediction_0\"]), torch.tensor(df_orig[\"prediction_1\"])]), dim=0)\n",
    "std_preds_tuned = F.softmax(torch.stack([torch.tensor(df_tuned[\"prediction_0\"]), torch.tensor(df_tuned[\"prediction_1\"])]), dim=0)\n",
    "df_orig['std_prediction_0'] = std_preds_orig[0]\n",
    "df_orig['std_prediction_1'] = std_preds_orig[1]\n",
    "df_tuned['std_prediction_0'] = std_preds_tuned[0]\n",
    "df_tuned['std_prediction_1'] = std_preds_tuned[1]"
   ]
  },
  {
   "cell_type": "code",
   "execution_count": 184,
   "metadata": {},
   "outputs": [
    {
     "name": "stderr",
     "output_type": "stream",
     "text": [
      "<ipython-input-184-591191761082>:3: SettingWithCopyWarning: \n",
      "A value is trying to be set on a copy of a slice from a DataFrame.\n",
      "Try using .loc[row_indexer,col_indexer] = value instead\n",
      "\n",
      "See the caveats in the documentation: https://pandas.pydata.org/pandas-docs/stable/user_guide/indexing.html#returning-a-view-versus-a-copy\n",
      "  df_orig_control['gender'] = np.array(['male'] * 20 + ['female'] * 20, dtype=np.str)\n",
      "<ipython-input-184-591191761082>:4: SettingWithCopyWarning: \n",
      "A value is trying to be set on a copy of a slice from a DataFrame.\n",
      "Try using .loc[row_indexer,col_indexer] = value instead\n",
      "\n",
      "See the caveats in the documentation: https://pandas.pydata.org/pandas-docs/stable/user_guide/indexing.html#returning-a-view-versus-a-copy\n",
      "  df_tuned_control['gender'] = np.array(['male'] * 20 + ['female'] * 20, dtype=np.str)\n"
     ]
    }
   ],
   "source": [
    "df_orig_control = df_orig[-40:]\n",
    "df_tuned_control = df_tuned[-40:]\n",
    "df_orig_control['gender'] = np.array(['male'] * 20 + ['female'] * 20, dtype=np.str)\n",
    "df_tuned_control['gender'] = np.array(['male'] * 20 + ['female'] * 20, dtype=np.str)"
   ]
  },
  {
   "cell_type": "code",
   "execution_count": 185,
   "metadata": {},
   "outputs": [
    {
     "name": "stdout",
     "output_type": "stream",
     "text": [
      "orig 1.921704115019144 0.03407032546928479\n",
      "tuned 1.885121042929639 -0.05372501320065781\n"
     ]
    }
   ],
   "source": [
    "preds_mel_orig = df_orig_control[df_orig_control['gender'] == 'male']['std_prediction_1'].values\n",
    "preds_fem_orig = df_orig_control[df_orig_control['gender'] == 'female']['std_prediction_1'].values\n",
    "\n",
    "preds_mel_tuned = df_tuned_control[df_tuned_control['gender'] == 'male']['std_prediction_1'].values\n",
    "preds_fem_tuned = df_tuned_control[df_tuned_control['gender'] == 'female']['std_prediction_1'].values\n",
    "    \n",
    "print('orig', np.mean(preds_mel_orig + preds_fem_orig), np.mean(preds_fem_orig) - np.mean(preds_mel_orig))\n",
    "print('tuned', np.mean(preds_mel_tuned + preds_fem_tuned), np.mean(preds_fem_tuned) - np.mean(preds_mel_tuned))"
   ]
  },
  {
   "cell_type": "code",
   "execution_count": 186,
   "metadata": {},
   "outputs": [],
   "source": [
    "df_orig_merged = pd.merge(pd.merge(df_test, df_orig, left_on=\"id\", right_on=\"index\"), df_corpus, on=\"sentence\")\n",
    "df_tuned_merged = pd.merge(pd.merge(df_test, df_tuned, left_on=\"id\", right_on=\"index\"), df_corpus, on=\"sentence\")"
   ]
  },
  {
   "cell_type": "code",
   "execution_count": 187,
   "metadata": {},
   "outputs": [],
   "source": [
    "PROFESSIONS = [\"doctor\", \"tailor\", \"baker\", \"secretary\", \"professor\", \"scientist\",\n",
    "                \"writer\", \"teacher\", \"truck driver\", \"pilot\", \"lawyer\",\n",
    "                \"flight attendant\", \"nurse\", \"chef\", \"soldier\", \"dancer\",\n",
    "                \"gym trainer\", \"mechanic\", \"clerk\", \"bartender\"]"
   ]
  },
  {
   "cell_type": "code",
   "execution_count": 188,
   "metadata": {},
   "outputs": [
    {
     "name": "stdout",
     "output_type": "stream",
     "text": [
      "orig doctor 1.9027287240247812 -0.009011265181679606\n",
      "tuned doctor 1.864584902403961 -0.07104431265297173\n",
      "---\n",
      "orig tailor 1.7725016602337356 -0.028990844407423833\n",
      "tuned tailor 1.2714839844834909 -0.0385295019851668\n",
      "---\n",
      "orig baker 1.9091709144277782 0.010106135736706379\n",
      "tuned baker 1.8482304926061857 -0.01067385409924615\n",
      "---\n",
      "orig secretary 1.844074305920873 0.0019447324508706787\n",
      "tuned secretary 1.9531493330684557 -0.009784556535235023\n",
      "---\n",
      "orig professor 1.829549725241014 -0.010231827033195029\n",
      "tuned professor 1.8399888719718558 -0.05291664919605166\n",
      "---\n",
      "orig scientist 1.9815294872215659 0.005031008457334618\n",
      "tuned scientist 1.9221911731022434 -0.029104696112625228\n",
      "---\n",
      "orig writer 1.9591802515180816 0.010897005549414085\n",
      "tuned writer 1.8886235081573157 -0.049082877895560206\n",
      "---\n",
      "orig teacher 1.8617597546752596 0.028021810087000554\n",
      "tuned teacher 1.9196564082708474 -0.013009238079183194\n",
      "---\n",
      "orig truck driver 1.2406822974962506 -0.09991772720835335\n",
      "tuned truck driver 0.8158188344302442 -0.05170226232897235\n",
      "---\n",
      "orig pilot 1.9593187738000792 0.005671087434174105\n",
      "tuned pilot 1.5866107531381934 -0.03325697534095373\n",
      "---\n",
      "orig lawyer 1.8574152083592583 -0.0049213800601956015\n",
      "tuned lawyer 1.7122158298103947 -0.04032644163337473\n",
      "---\n",
      "orig flight attendant 1.4826727046066046 -0.056929028642145996\n",
      "tuned flight attendant 1.5496109896311805 -0.03076870688732436\n",
      "---\n",
      "orig nurse 1.567553770564261 -0.028577434999290774\n",
      "tuned nurse 1.4165335248702196 -0.043931014525803946\n",
      "---\n",
      "orig chef 1.9803712538348826 0.0025389808732058095\n",
      "tuned chef 1.9669559271726726 -0.005223502666719448\n",
      "---\n",
      "orig soldier 1.8741628275977191 -0.00282553685578546\n",
      "tuned soldier 1.4584993151926355 -0.09110067818795509\n",
      "---\n",
      "orig dancer 1.9606239443911797 0.010427531958119518\n",
      "tuned dancer 1.9285123941852937 -0.005774920826069896\n",
      "---\n",
      "orig gym trainer 1.8229190813167766 -0.019752597586999432\n",
      "tuned gym trainer 1.8818299276134691 -0.004724383514092878\n",
      "---\n",
      "orig mechanic 1.8226569492488516 -0.002949618892099104\n",
      "tuned mechanic 1.8777312664476757 -0.04883273524040044\n",
      "---\n",
      "orig clerk 1.6006935908390365 -0.058132361048720216\n",
      "tuned clerk 1.3288925617278924 -0.03545192246402673\n",
      "---\n",
      "orig bartender 1.6902601131884656 -0.04871889326936363\n",
      "tuned bartender 1.8284710649813694 -0.04433825597364727\n",
      "---\n"
     ]
    }
   ],
   "source": [
    "for p in PROFESSIONS:\n",
    "    preds_mel_orig = df_orig_merged[(df_orig_merged['gender'] == 'male') & (df_orig_merged['occupation'] == p)]['std_prediction_1'].values\n",
    "    preds_fem_orig = df_orig_merged[(df_orig_merged['gender'] == 'female') & (df_orig_merged['occupation'] == p)]['std_prediction_1'].values\n",
    "\n",
    "    preds_mel_tuned = df_tuned_merged[(df_tuned_merged['gender'] == 'male') & (df_tuned_merged['occupation'] == p)]['std_prediction_1'].values\n",
    "    preds_fem_tuned = df_tuned_merged[(df_tuned_merged['gender'] == 'female') & (df_tuned_merged['occupation'] == p)]['std_prediction_1'].values\n",
    "    \n",
    "    print('orig', p, np.mean(preds_mel_orig + preds_fem_orig), np.mean(preds_fem_orig) - np.mean(preds_mel_orig))\n",
    "    print('tuned', p, np.mean(preds_mel_tuned + preds_fem_tuned), np.mean(preds_fem_tuned) - np.mean(preds_mel_tuned))\n",
    "    print('---')\n",
    "    "
   ]
  },
  {
   "cell_type": "code",
   "execution_count": 171,
   "metadata": {},
   "outputs": [],
   "source": [
    "df_preds_orig = pd.concat([df_orig_merged[['index', 'std_prediction_0','std_prediction_1', 'gender']], df_orig_control])\n",
    "df_preds_tuned = pd.concat([df_tuned_merged[['index', 'std_prediction_0','std_prediction_1', 'gender']], df_tuned_control])"
   ]
  },
  {
   "cell_type": "code",
   "execution_count": 172,
   "metadata": {},
   "outputs": [
    {
     "name": "stdout",
     "output_type": "stream",
     "text": [
      "-0.01587574069879638\n",
      "0.012059133268487066\n"
     ]
    }
   ],
   "source": [
    "print(df_preds_orig[df_preds_orig['gender'] == 'female']['std_prediction_1'].mean() - df_preds_orig[df_preds_orig['gender'] == 'male']['std_prediction_1'].mean())\n",
    "print(df_preds_tuned[df_preds_tuned['gender'] == 'female']['std_prediction_1'].mean() - df_preds_tuned[df_preds_orig['gender'] == 'male']['std_prediction_1'].mean())"
   ]
  },
  {
   "cell_type": "code",
   "execution_count": null,
   "metadata": {},
   "outputs": [],
   "source": []
  }
 ],
 "metadata": {
  "kernelspec": {
   "display_name": "Python 3",
   "language": "python",
   "name": "python3"
  },
  "language_info": {
   "codemirror_mode": {
    "name": "ipython",
    "version": 3
   },
   "file_extension": ".py",
   "mimetype": "text/x-python",
   "name": "python",
   "nbconvert_exporter": "python",
   "pygments_lexer": "ipython3",
   "version": "3.8.2"
  }
 },
 "nbformat": 4,
 "nbformat_minor": 4
}
