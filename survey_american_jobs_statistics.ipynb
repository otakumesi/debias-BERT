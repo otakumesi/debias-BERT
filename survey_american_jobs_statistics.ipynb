{
 "cells": [
  {
   "cell_type": "code",
   "execution_count": 84,
   "metadata": {},
   "outputs": [
    {
     "name": "stderr",
     "output_type": "stream",
     "text": [
      "[nltk_data] Downloading package wordnet to\n",
      "[nltk_data]     /Users/otakumesi/nltk_data...\n",
      "[nltk_data]   Package wordnet is already up-to-date!\n"
     ]
    }
   ],
   "source": [
    "import numpy as np\n",
    "import pandas as pd\n",
    "from pathlib import Path\n",
    "\n",
    "from transformers import AutoConfig, AutoTokenizer\n",
    "from nltk.corpus import wordnet\n",
    "\n",
    "import re\n",
    "\n",
    "import nltk\n",
    "nltk.download('wordnet')\n",
    "\n",
    "pd.set_option('display.max_rows', 500)"
   ]
  },
  {
   "cell_type": "code",
   "execution_count": 85,
   "metadata": {},
   "outputs": [],
   "source": [
    "onet_ds_path = Path('data/ONET_DB')\n",
    "occupation_path = onet_ds_path / 'occupation_data.txt'\n",
    "alter_path = onet_ds_path / 'alternate_titles.txt'"
   ]
  },
  {
   "cell_type": "code",
   "execution_count": 98,
   "metadata": {},
   "outputs": [],
   "source": [
    "occupation_dfs = pd.read_csv(occupation_path, '\\t')\n",
    "alter_dfs = pd.read_csv(alter_path, '\\t')"
   ]
  },
  {
   "cell_type": "code",
   "execution_count": 146,
   "metadata": {},
   "outputs": [],
   "source": [
    "df = occupation_dfs.merge(alter_dfs)\n",
    "\n",
    "df['Alternate Title'] = df.apply(lambda x: re.sub(r'\\((.+)\\)', '', x[3], flags=re.IGNORECASE), axis=1)\n",
    "st_occupations = df['Short Title'].dropna()\n",
    "alt_occupations = df['Alternate Title']\n",
    "# orig_occupations = df['Title']\n",
    "\n",
    "occupations = pd.concat([alt_occupations, st_occupations]).drop_duplicates()\n",
    "occupations = pd.concat([pd.Series(row.split(',')) for row in occupations])\n",
    "# occupations = pd.concat([pd.Series(row.split(' and ')) for row in occupations])\n",
    "occupations = occupations.apply(lambda s: s.strip())"
   ]
  },
  {
   "cell_type": "code",
   "execution_count": 147,
   "metadata": {},
   "outputs": [],
   "source": [
    "occupations.to_csv('data/occupations.txt', sep='\\t', index=False, header=False)"
   ]
  },
  {
   "cell_type": "code",
   "execution_count": 148,
   "metadata": {},
   "outputs": [
    {
     "data": {
      "text/plain": [
       "0                      Aeronautics Commission Director\n",
       "0                       Agricultural Services Director\n",
       "0    Alcohol and Drug Abuse Assistance Program Admi...\n",
       "0                 Arts and Humanities Council Director\n",
       "0                                       Bakery Manager\n",
       "                           ...                        \n",
       "0                                         LHD Operator\n",
       "0                                        ETOC Operator\n",
       "0                                     Hy Lift Operator\n",
       "0                                           PVC Loader\n",
       "0                                          PVC Monitor\n",
       "Length: 46481, dtype: object"
      ]
     },
     "execution_count": 148,
     "metadata": {},
     "output_type": "execute_result"
    }
   ],
   "source": [
    "occupations"
   ]
  },
  {
   "cell_type": "code",
   "execution_count": null,
   "metadata": {},
   "outputs": [],
   "source": []
  }
 ],
 "metadata": {
  "kernelspec": {
   "display_name": "Python 3",
   "language": "python",
   "name": "python3"
  },
  "language_info": {
   "codemirror_mode": {
    "name": "ipython",
    "version": 3
   },
   "file_extension": ".py",
   "mimetype": "text/x-python",
   "name": "python",
   "nbconvert_exporter": "python",
   "pygments_lexer": "ipython3",
   "version": "3.8.2"
  }
 },
 "nbformat": 4,
 "nbformat_minor": 4
}
