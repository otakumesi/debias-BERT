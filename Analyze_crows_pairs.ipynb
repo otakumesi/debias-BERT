{
 "cells": [
  {
   "cell_type": "code",
   "execution_count": 81,
   "metadata": {},
   "outputs": [],
   "source": [
    "from pathlib import Path\n",
    "\n",
    "import numpy as np\n",
    "import pandas as pd\n",
    "from transformers import BertTokenizer\n",
    "import torch.nn.functional as F\n",
    "import torch\n",
    "import seaborn as sns\n",
    "from matplotlib import pyplot as plt\n",
    "from scipy.stats import norm, wilcoxon"
   ]
  },
  {
   "cell_type": "code",
   "execution_count": 8,
   "metadata": {},
   "outputs": [],
   "source": [
    "MODELS = ['bert-base-uncased']\n",
    "target_path = Path('runs') / 'crows_pairs/data/crows_pairs_anonymized.csv'"
   ]
  },
  {
   "cell_type": "code",
   "execution_count": 88,
   "metadata": {},
   "outputs": [
    {
     "name": "stdout",
     "output_type": "stream",
     "text": [
      "WilcoxonResult(statistic=437365.0, pvalue=7.450508167014153e-15)\n",
      "11262.721755545512\n"
     ]
    },
    {
     "data": {
      "image/png": "[encoded data removed]",
      "text/plain": [
       "<Figure size 432x288 with 2 Axes>"
      ]
     },
     "metadata": {
      "needs_background": "light"
     },
     "output_type": "display_data"
    }
   ],
   "source": [
    "fig, ax = plt.subplots(len(MODELS), 2)\n",
    "\n",
    "df_dict = {}\n",
    "for n, model in enumerate(MODELS):\n",
    "    df_dict[model] = pd.read_csv(target_path / model / 'results.csv')\n",
    "    df = df_dict[model]\n",
    "    result = wilcoxon(df['sent_more_score'], df['sent_less_score'], zero_method='wilcox', correction=True)\n",
    "    print(result)\n",
    "    r = result.statistic / np.sqrt(len(df) - len(df[df['sent_more_score'] == df['sent_less_score']]))\n",
    "    print(r)\n",
    "    df.hist('sent_more_score', ax=ax[0], bins=100)\n",
    "    df.hist('sent_less_score', ax=ax[1], bins=100)"
   ]
  },
  {
   "cell_type": "code",
   "execution_count": null,
   "metadata": {},
   "outputs": [],
   "source": []
  }
 ],
 "metadata": {
  "kernelspec": {
   "display_name": "Python 3",
   "language": "python",
   "name": "python3"
  },
  "language_info": {
   "codemirror_mode": {
    "name": "ipython",
    "version": 3
   },
   "file_extension": ".py",
   "mimetype": "text/x-python",
   "name": "python",
   "nbconvert_exporter": "python",
   "pygments_lexer": "ipython3",
   "version": "3.8.2"
  }
 },
 "nbformat": 4,
 "nbformat_minor": 4
}
