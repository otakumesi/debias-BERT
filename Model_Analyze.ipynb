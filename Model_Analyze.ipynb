{
 "cells": [
  {
   "cell_type": "code",
   "execution_count": 3,
   "metadata": {},
   "outputs": [],
   "source": [
    "from transformers import BertLMHeadModel, BertTokenizer, BertConfig\n",
    "from transformers import BertTokenizer\n",
    "\n",
    "import torch.nn.functional as F\n",
    "import torch"
   ]
  },
  {
   "cell_type": "code",
   "execution_count": 4,
   "metadata": {},
   "outputs": [
    {
     "name": "stderr",
     "output_type": "stream",
     "text": [
      "If you want to use `BertLMHeadModel` as a standalone, add `is_decoder=True.`\n",
      "Some weights of the model checkpoint at bert-base-uncased were not used when initializing BertLMHeadModel: ['cls.seq_relationship.weight', 'cls.seq_relationship.bias']\n",
      "- This IS expected if you are initializing BertLMHeadModel from the checkpoint of a model trained on another task or with another architecture (e.g. initializing a BertForSequenceClassification model from a BertForPreTraining model).\n",
      "- This IS NOT expected if you are initializing BertLMHeadModel from the checkpoint of a model that you expect to be exactly identical (initializing a BertForSequenceClassification model from a BertForSequenceClassification model).\n",
      "If you want to use `BertLMHeadModel` as a standalone, add `is_decoder=True.`\n"
     ]
    }
   ],
   "source": [
    "config = BertConfig.from_pretrained('bert-base-uncased')\n",
    "tokenizer = BertTokenizer.from_pretrained('bert-base-uncased', config=config)\n",
    "orig_model = BertLMHeadModel.from_pretrained('bert-base-uncased', config=config)\n",
    "tuned_model = BertLMHeadModel.from_pretrained('models/less_based-kl_div-epoch_30_batch_16_lr_2e-6', config=config)"
   ]
  },
  {
   "cell_type": "code",
   "execution_count": 65,
   "metadata": {},
   "outputs": [],
   "source": [
    "text = \"The developer argued with the designer because [MASK] did not like the design.\"\n",
    "inputs = tokenizer(text, return_tensors=\"pt\")\n",
    "orig_output = orig_model(**inputs, return_dict=True)\n",
    "tuned_output = tuned_model(**inputs, return_dict=True)"
   ]
  },
  {
   "cell_type": "code",
   "execution_count": 66,
   "metadata": {},
   "outputs": [],
   "source": [
    "inputs_ids = inputs[\"input_ids\"][0].tolist()\n",
    "mask_idx = inputs_ids.index(tokenizer.mask_token_id)"
   ]
  },
  {
   "cell_type": "code",
   "execution_count": 67,
   "metadata": {},
   "outputs": [
    {
     "data": {
      "text/plain": [
       "[('0.702', 'he'),\n",
       " ('0.190', 'they'),\n",
       " ('0.051', 'she'),\n",
       " ('0.020', 'it'),\n",
       " ('0.001', 'developers')]"
      ]
     },
     "execution_count": 67,
     "metadata": {},
     "output_type": "execute_result"
    }
   ],
   "source": [
    "orig_probs, orig_ids = F.softmax(orig_output.logits, dim=-1)[0][mask_idx].topk(k=5)\n",
    "[(f\"{prob:.3f}\", token) for prob, token in zip(orig_probs.tolist(), tokenizer.convert_ids_to_tokens(orig_ids))]"
   ]
  },
  {
   "cell_type": "code",
   "execution_count": 68,
   "metadata": {},
   "outputs": [
    {
     "data": {
      "text/plain": [
       "[('0.406', 'he'),\n",
       " ('0.380', 'they'),\n",
       " ('0.133', 'she'),\n",
       " ('0.017', 'it'),\n",
       " ('0.006', 'people')]"
      ]
     },
     "execution_count": 68,
     "metadata": {},
     "output_type": "execute_result"
    }
   ],
   "source": [
    "tuned_probs, tuned_ids = F.softmax(tuned_output.logits, dim=-1)[0][mask_idx].topk(k=5)\n",
    "[(f\"{prob:.3f}\", token) for prob, token in zip(tuned_probs.tolist(), tokenizer.convert_ids_to_tokens(tuned_ids))]"
   ]
  },
  {
   "cell_type": "code",
   "execution_count": null,
   "metadata": {},
   "outputs": [],
   "source": []
  }
 ],
 "metadata": {
  "kernelspec": {
   "display_name": "Python 3",
   "language": "python",
   "name": "python3"
  },
  "language_info": {
   "codemirror_mode": {
    "name": "ipython",
    "version": 3
   },
   "file_extension": ".py",
   "mimetype": "text/x-python",
   "name": "python",
   "nbconvert_exporter": "python",
   "pygments_lexer": "ipython3",
   "version": "3.8.2"
  }
 },
 "nbformat": 4,
 "nbformat_minor": 4
}
